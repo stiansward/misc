{
 "cells": [
  {
   "cell_type": "code",
   "execution_count": 1,
   "metadata": {},
   "outputs": [],
   "source": [
    "import spacy\n",
    "from in2110.conllu import ConlluDoc"
   ]
  },
  {
   "cell_type": "code",
   "execution_count": 40,
   "metadata": {},
   "outputs": [],
   "source": [
    "def attachment_score(true, pred):\n",
    "    w_correct_head = 0\n",
    "    w_correct_head_and_dep = 0\n",
    "    words = 0\n",
    "    for t, p in zip(true, pred):\n",
    "        for wt, wp in zip(t, p):\n",
    "            words += 1\n",
    "            if str(wt.head) == str(wp.head):\n",
    "                w_correct_head += 1\n",
    "                if wt.dep_ == wp.dep_:\n",
    "                    w_correct_head_and_dep += 1\n",
    "    las = w_correct_head_and_dep / words\n",
    "    uas = w_correct_head / words\n",
    "\n",
    "    return uas, las"
   ]
  },
  {
   "cell_type": "code",
   "execution_count": 3,
   "metadata": {},
   "outputs": [],
   "source": [
    "nb = spacy.load('model/model-best')\n",
    "conllu_dev = ConlluDoc.from_file('no_bokmaal-ud-dev.conllu')\n",
    "dev_docs = conllu_dev.to_spacy(nb)\n",
    "dev_docs_unlabeled = conllu_dev.to_spacy(nb, keep_labels=False)"
   ]
  },
  {
   "cell_type": "code",
   "execution_count": 43,
   "metadata": {},
   "outputs": [
    {
     "name": "stdout",
     "output_type": "stream",
     "text": [
      "UAS : 0.8927108251532899\n",
      "LAS : 0.7979872968737112\n"
     ]
    }
   ],
   "source": [
    "uas, las = attachment_score(dev_docs, [nb.parser(x) for x in dev_docs_unlabeled])\n",
    "print('UAS :', uas)\n",
    "print('LAS :', las)"
   ]
  },
  {
   "cell_type": "code",
   "execution_count": 44,
   "metadata": {},
   "outputs": [
    {
     "name": "stdout",
     "output_type": "stream",
     "text": [
      "UAS : 0.682752\n",
      "LAS : 0.563072\n"
     ]
    }
   ],
   "source": [
    "nynorsk_dev = ConlluDoc.from_file('no_nynorsk-ud-dev.conllu')\n",
    "nn_dev_docs = nynorsk_dev.to_spacy(nb)\n",
    "nn_dev_docs_unlabeled = nynorsk_dev.to_spacy(nb, keep_labels=False)\n",
    "uas, las = attachment_score(nn_dev_docs, [nb.parser(x) for x in nn_dev_docs_unlabeled])\n",
    "print('UAS :', uas)\n",
    "print('LAS :', las)"
   ]
  },
  {
   "cell_type": "code",
   "execution_count": 45,
   "metadata": {},
   "outputs": [
    {
     "name": "stdout",
     "output_type": "stream",
     "text": [
      "UAS : 0.4846993997835285\n",
      "LAS : 0.3243136869034734\n"
     ]
    }
   ],
   "source": [
    "nynorsklia_dev = ConlluDoc.from_file('no_nynorsklia-ud-dev.conllu')\n",
    "nnlia_dev_docs = nynorsklia_dev.to_spacy(nb)\n",
    "nnlia_dev_docs_unlabeled = nynorsklia_dev.to_spacy(nb, keep_labels=False)\n",
    "uas, las = attachment_score(nnlia_dev_docs, [nb.parser(x) for x in nnlia_dev_docs_unlabeled])\n",
    "print('UAS :', uas)\n",
    "print('LAS :', las)"
   ]
  },
  {
   "cell_type": "code",
   "execution_count": 46,
   "metadata": {},
   "outputs": [
    {
     "data": {
      "text/plain": [
       "[vi spør først når dette her begynte for alvor og kva slags bil du hadde å køyre med . ,\n",
       " det første # det # i femogtjue . ,\n",
       " og da # kj- hadde eg Forden # eg hadde Forden da au . ,\n",
       " men den køyrde eg med ein månads seie så e . ,\n",
       " så vart den for liten så måtte eg bytte # og eg hadde masse bytta annakvart år # bilar . ,\n",
       " ja . ,\n",
       " for å få e # for å komme til noko større materiell . ,\n",
       " og dette her kj- fortsette vi med og køyrde # mjølk da leste på ein e # mellom åtti og hundre spann . ,\n",
       " om om dagen # som vi bar . ,\n",
       " utor mjølkekummen . ]"
      ]
     },
     "execution_count": 46,
     "metadata": {},
     "output_type": "execute_result"
    }
   ],
   "source": [
    "nnlia_dev_docs[:10]"
   ]
  },
  {
   "cell_type": "code",
   "execution_count": 47,
   "metadata": {},
   "outputs": [
    {
     "data": {
      "text/plain": [
       "[vi spør først når dette her begynte for alvor og kva slags bil du hadde å køyre med . ,\n",
       " det første # det # i femogtjue . ,\n",
       " og da # kj- hadde eg Forden # eg hadde Forden da au . ,\n",
       " men den køyrde eg med ein månads seie så e . ,\n",
       " så vart den for liten så måtte eg bytte # og eg hadde masse bytta annakvart år # bilar . ,\n",
       " ja . ,\n",
       " for å få e # for å komme til noko større materiell . ,\n",
       " og dette her kj- fortsette vi med og køyrde # mjølk da leste på ein e # mellom åtti og hundre spann . ,\n",
       " om om dagen # som vi bar . ,\n",
       " utor mjølkekummen . ]"
      ]
     },
     "execution_count": 47,
     "metadata": {},
     "output_type": "execute_result"
    }
   ],
   "source": [
    "nnlia_dev_docs_unlabeled[:10]"
   ]
  },
  {
   "cell_type": "code",
   "execution_count": null,
   "metadata": {},
   "outputs": [],
   "source": []
  }
 ],
 "metadata": {
  "kernelspec": {
   "display_name": "Python 3",
   "language": "python",
   "name": "python3"
  },
  "language_info": {
   "codemirror_mode": {
    "name": "ipython",
    "version": 3
   },
   "file_extension": ".py",
   "mimetype": "text/x-python",
   "name": "python",
   "nbconvert_exporter": "python",
   "pygments_lexer": "ipython3",
   "version": "3.6.9"
  }
 },
 "nbformat": 4,
 "nbformat_minor": 2
}
