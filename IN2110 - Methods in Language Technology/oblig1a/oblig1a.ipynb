{
 "cells": [
  {
   "cell_type": "markdown",
   "metadata": {},
   "source": [
    "# IN2110 Oblig 1 pre-kode"
   ]
  },
  {
   "cell_type": "code",
   "execution_count": 1,
   "metadata": {},
   "outputs": [],
   "source": [
    "# Klasser og funksjoner fra scikit-learn som vi skal bruke i obligen\n",
    "from sklearn.feature_extraction.text import CountVectorizer, TfidfTransformer\n",
    "from sklearn.neighbors import KNeighborsClassifier\n",
    "from sklearn.metrics import accuracy_score\n",
    "from scipy import sparse\n",
    "\n",
    "# Norec dataset\n",
    "from in2110.corpora import norec\n",
    "\n",
    "# Hjelpefunksjoner for visualisering\n",
    "from in2110.oblig1 import scatter_plot\n",
    "\n",
    "# Andre imports\n",
    "import nltk"
   ]
  },
  {
   "cell_type": "code",
   "execution_count": 2,
   "metadata": {},
   "outputs": [],
   "source": [
    "def prepare_data(documents):\n",
    "    \"\"\"Tar inn en iterator (kan være en liste) over dokumenter fra norec\n",
    "    og returnerer to lister:\n",
    "\n",
    "    - data   : En liste over dokument-tekstene.\n",
    "    - labels : En liste over hvilken kategori dokumentet tilhører.\n",
    "\n",
    "    Begge listene skal være like lange og for dokumentet i data[i]\n",
    "    skal vi kunne finne kategorien i labels[i].\n",
    "    \"\"\"\n",
    "\n",
    "    # Din kode her\n",
    "\n",
    "    data = []\n",
    "    labels = []\n",
    "    \n",
    "    for document in documents:\n",
    "        if document.metadata['category'] in ['games', 'literature', 'restaurants']:\n",
    "            data.append(document.text)\n",
    "            labels.append(document.metadata['category'])\n",
    "    \n",
    "    return data, labels"
   ]
  },
  {
   "cell_type": "code",
   "execution_count": 3,
   "metadata": {},
   "outputs": [],
   "source": [
    "\"\"\" Redeklarasjonen av følgende funksjon illustrerer prosessen med utprøving av ulike preprosesseringsmetoder.\n",
    "    Funksjonene inneholder en kommentar med navnet metoden har fått i rapporten \"\"\"\n",
    "\n",
    "def tokenize(text):\n",
    "    \"\"\"Tar inn en streng med tekst og returnerer en liste med tokens.\"\"\"\n",
    "\n",
    "    return text.split()\n",
    "\n",
    "def tokenize(text):\n",
    "    # NLTK-tokenisering\n",
    "    return nltk.word_tokenize(text)\n",
    "\n",
    "def tokenize(text):\n",
    "    # Små bokstaver, NLTK-tokenisering\n",
    "    return nltk.word_tokenize(text.lower())\n",
    "\n",
    "def tokenize(text):\n",
    "    # Splitt etter regelsettt\n",
    "    return nltk.tokenize.TreebankWordTokenizer().tokenize(text)\n",
    "\n",
    "def tokenize(text):\n",
    "    # Lemmatisering, regelsett\n",
    "    tokens = nltk.tokenize.TreebankWordTokenizer().tokenize(text)\n",
    "    stemmer = nltk.stem.WordNetLemmatizer()\n",
    "    return \" \".join(stemmer.lemmatize(token) for token in tokens)\n",
    "\n",
    "def tokenize(text):\n",
    "    # Stemming, regelsett\n",
    "    tokens = nltk.tokenize.TreebankWordTokenizer().tokenize(text)\n",
    "    stemmer = nltk.stem.PorterStemmer()\n",
    "    return [stemmer.stem(token) for token in tokens]\n"
   ]
  },
  {
   "cell_type": "code",
   "execution_count": 4,
   "metadata": {},
   "outputs": [],
   "source": [
    "class Vectorizer(object):\n",
    "    def __init__(self):\n",
    "        \"\"\"Konstruktør som tar inn antall klasser som argument.\"\"\"\n",
    "\n",
    "        self.vectorizer = CountVectorizer(lowercase=False, tokenizer=tokenize, analyzer='word', max_features=5000)\n",
    "        self.tfidf = TfidfTransformer()\n",
    "\n",
    "    def vec_train(self, data):\n",
    "        \"\"\"Tilpass vektorisereren til treningsdata.\n",
    "        Returner de vektoriserte treningsdataene med og uten tfidf-vekting.\"\"\"\n",
    "\n",
    "        # Din kode her\n",
    "\n",
    "        # Tips: Bruk fit_transform() for å spare kjøretid.\n",
    "\n",
    "        vec = sparse.coo_matrix(self.vectorizer.fit_transform(data))\n",
    "        vec_tfidf = self.tfidf.fit_transform(vec)\n",
    "\n",
    "        return vec, vec_tfidf\n",
    "\n",
    "    def vec_test(self, data):\n",
    "        \"\"\"Vektoriser dokumentene i nye data. Returner vektorer med og uten tfidf-vekting.\"\"\"\n",
    "\n",
    "        # Din kode her\n",
    "\n",
    "        vec = sparse.coo_matrix(self.vectorizer.transform(data))\n",
    "        vec_tfidf = self.tfidf.transform(vec)\n",
    "\n",
    "        return vec, vec_tfidf"
   ]
  },
  {
   "cell_type": "code",
   "execution_count": 5,
   "metadata": {},
   "outputs": [],
   "source": [
    "def create_knn_classifier(vec, labels, k):\n",
    "    \"\"\"Lag en k-NN-klassifikator, tren den med vec og labels, og returner den.\"\"\"\n",
    "\n",
    "    clf = KNeighborsClassifier(n_neighbors=k)\n",
    "    clf.fit(vec, labels)\n",
    "\n",
    "    return clf"
   ]
  },
  {
   "cell_type": "code",
   "execution_count": 6,
   "metadata": {},
   "outputs": [],
   "source": [
    "# Treningsdata\n",
    "train_data, train_labels = prepare_data(norec.train_set())\n",
    "\n",
    "# Valideringsdata\n",
    "dev_data, dev_labels = prepare_data(norec.dev_set())\n",
    "\n",
    "# Testdata\n",
    "test_data, test_labels = prepare_data(norec.test_set())"
   ]
  },
  {
   "cell_type": "code",
   "execution_count": 7,
   "metadata": {},
   "outputs": [],
   "source": [
    "# Opprett og tren vektorisereren\n",
    "vectorizer = Vectorizer()\n",
    "train_vec, train_vec_tfidf = vectorizer.vec_train(train_data)\n",
    "dev_vec, dev_vec_tfidf = vectorizer.vec_test(dev_data)\n",
    "test_vec, test_vec_tfidf = vectorizer.vec_test(test_data)"
   ]
  },
  {
   "cell_type": "code",
   "execution_count": 8,
   "metadata": {},
   "outputs": [
    {
     "name": "stdout",
     "output_type": "stream",
     "text": [
      "0.985\n"
     ]
    }
   ],
   "source": [
    "# Oppgave 3c - Opprett klassifikatoren, prediker testsettet, og print accuracy_score\n",
    "clf = create_knn_classifier(train_vec_tfidf, train_labels, 20)\n",
    "prediction = clf.predict(test_vec_tfidf)\n",
    "print('%.3f' %  accuracy_score(test_labels, prediction))"
   ]
  },
  {
   "cell_type": "code",
   "execution_count": null,
   "metadata": {},
   "outputs": [],
   "source": []
  }
 ],
 "metadata": {
  "kernelspec": {
   "display_name": "Python 3",
   "language": "python",
   "name": "python3"
  },
  "language_info": {
   "codemirror_mode": {
    "name": "ipython",
    "version": 3
   },
   "file_extension": ".py",
   "mimetype": "text/x-python",
   "name": "python",
   "nbconvert_exporter": "python",
   "pygments_lexer": "ipython3",
   "version": "3.6.9"
  }
 },
 "nbformat": 4,
 "nbformat_minor": 2
}
